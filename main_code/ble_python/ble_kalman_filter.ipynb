{
 "cells": [
  {
   "cell_type": "code",
   "execution_count": null,
   "metadata": {},
   "outputs": [],
   "source": [
    "%load_ext autoreload\n",
    "%autoreload 2\n",
    "\n",
    "from ble import get_ble_controller\n",
    "from base_ble import LOG\n",
    "from cmd_types import CMD\n",
    "import time\n",
    "import numpy as np\n",
    "import matplotlib.pyplot as plt\n",
    "from datetime import datetime\n",
    "\n",
    "\n",
    "LOG.propagate = False"
   ]
  },
  {
   "cell_type": "markdown",
   "metadata": {},
   "source": [
    "Lab7 - Kalman Filter"
   ]
  },
  {
   "cell_type": "code",
   "execution_count": 1,
   "metadata": {},
   "outputs": [
    {
     "ename": "NameError",
     "evalue": "name 'get_ble_controller' is not defined",
     "output_type": "error",
     "traceback": [
      "\u001b[0;31m---------------------------------------------------------------------------\u001b[0m",
      "\u001b[0;31mNameError\u001b[0m                                 Traceback (most recent call last)",
      "Cell \u001b[0;32mIn[1], line 2\u001b[0m\n\u001b[1;32m      1\u001b[0m \u001b[38;5;66;03m# Get ArtemisBLEController object\u001b[39;00m\n\u001b[0;32m----> 2\u001b[0m ble \u001b[38;5;241m=\u001b[39m \u001b[43mget_ble_controller\u001b[49m()\n\u001b[1;32m      3\u001b[0m \u001b[38;5;66;03m# Connect to the Artemis Device\u001b[39;00m\n\u001b[1;32m      4\u001b[0m ble\u001b[38;5;241m.\u001b[39mconnect()\n",
      "\u001b[0;31mNameError\u001b[0m: name 'get_ble_controller' is not defined"
     ]
    }
   ],
   "source": [
    "# Get ArtemisBLEController object\n",
    "ble = get_ble_controller()\n",
    "# Connect to the Artemis Device\n",
    "ble.connect()"
   ]
  },
  {
   "cell_type": "code",
   "execution_count": null,
   "metadata": {},
   "outputs": [],
   "source": [
    "timeData = []\n",
    "tof1Data = []\n",
    "tof2Data = []\n",
    "leftPWM = []\n",
    "rightPWM = []\n",
    "errorData = []\n",
    "p_data = []\n",
    "i_data = []\n",
    "d_data = []"
   ]
  },
  {
   "cell_type": "code",
   "execution_count": null,
   "metadata": {},
   "outputs": [],
   "source": [
    "def pid_fd_notification_handler(uuid, char_bytearr):\n",
    "    global timeData, tof1Data, tof2Data, leftPWM, rightPWM, errorData, p_data, i_data, d_data\n",
    "    string = ble.bytearray_to_string(char_bytearr)\n",
    "    parts = string.split(\"|\")  \n",
    "    print(parts)\n",
    "    timeData.append(int(parts[0][2:]))\n",
    "    tof1Data.append(float(parts[1][6:]))\n",
    "    tof2Data.append(float(parts[2][6:]))\n",
    "    leftPWM.append(float(parts[3][8:]))\n",
    "    rightPWM.append(float(parts[4][9:]))\n",
    "    errorData.append(float(parts[5][10:]))\n",
    "    p_data.append(float(parts[6][7:]))\n",
    "    i_data.append(float(parts[7][7:]))\n",
    "    d_data.append(float(parts[8][7:]))\n",
    "    "
   ]
  },
  {
   "cell_type": "code",
   "execution_count": null,
   "metadata": {},
   "outputs": [],
   "source": [
    "ble.start_notify(ble.uuid[\"RX_STRING\"], pid_fd_notification_handler)"
   ]
  },
  {
   "cell_type": "code",
   "execution_count": null,
   "metadata": {},
   "outputs": [],
   "source": [
    "ble.send_command(CMD.PID_STATUS_INI, \"1\")"
   ]
  },
  {
   "cell_type": "code",
   "execution_count": null,
   "metadata": {},
   "outputs": [],
   "source": [
    "ble.send_command(CMD.KALMAN_FILTER_TEST, \"\")"
   ]
  },
  {
   "cell_type": "code",
   "execution_count": null,
   "metadata": {},
   "outputs": [],
   "source": [
    "ble.send_command(CMD.SEND_PID_FD_DEBUG_READINGS, \"\")"
   ]
  },
  {
   "cell_type": "code",
   "execution_count": null,
   "metadata": {},
   "outputs": [],
   "source": [
    "# # Define the filename \n",
    "# filename = \"/Users/harrypeng/Desktop/ECE4160/lab1/ble_robot-1.1/ble_python/kalman_readings_csv/time_dist_2024-03-20_12-16-20.csv\"\n",
    "\n",
    "# # Load the data from the CSV file\n",
    "# loaded_data = np.loadtxt(filename, delimiter=',', skiprows=1)  # skip the header row\n",
    "\n",
    "# # Split the loaded data into two arrays\n",
    "# timeData = np.array(loaded_data[:, 0])  # unit: s\n",
    "# tof1Data = np.array(loaded_data[:, 1])/1000  # unit: m\n"
   ]
  },
  {
   "cell_type": "code",
   "execution_count": null,
   "metadata": {},
   "outputs": [],
   "source": [
    "# # change unit\n",
    "timeData = np.array(timeData) / 1000    # unit: s\n",
    "tof1Data = np.array(tof1Data) / 1000    # unit: m\n",
    "\n",
    "# timeData = np.array(timeData)   \n",
    "# tof1Data = np.array(tof1Data)   "
   ]
  },
  {
   "cell_type": "code",
   "execution_count": null,
   "metadata": {},
   "outputs": [],
   "source": [
    "print(len(timeData))\n",
    "print(len(tof1Data))\n",
    "print(len(leftPWM))\n",
    "print(len(p_data))\n",
    "print(len(i_data))"
   ]
  },
  {
   "cell_type": "code",
   "execution_count": null,
   "metadata": {},
   "outputs": [],
   "source": [
    "unused_index_arr = np.argwhere(np.array(timeData)==0)\n",
    "if (len(unused_index_arr) != 0):\n",
    "    unused_index = unused_index_arr[0][0]\n",
    "else:\n",
    "    unused_index = len(timeData)\n",
    "print(unused_index)"
   ]
  },
  {
   "cell_type": "code",
   "execution_count": null,
   "metadata": {},
   "outputs": [],
   "source": [
    "# plot distance vs time\n",
    "plt.figure(figsize=(15, 10))\n",
    "plt.plot(timeData[:unused_index], tof1Data[:unused_index], linestyle='-', marker='o', color='blue', label='distance')\n",
    "plt.title(\"distance vs time\")\n",
    "plt.xlabel(\"time(s)\")\n",
    "plt.ylabel(\"distance(m)\")\n",
    "plt.show()\n"
   ]
  },
  {
   "cell_type": "code",
   "execution_count": null,
   "metadata": {},
   "outputs": [],
   "source": [
    "# plot velocity vs time\n",
    "##### use three points to calculate the middle point's velocity\n",
    "start_index = np.argwhere(np.array(timeData)>2)[0][0]\n",
    "velocityData = []\n",
    "for i in range(1, (unused_index-1)):\n",
    "    if (i < start_index):\n",
    "        velocityData.append(0)\n",
    "    else:\n",
    "        velocityData.append(np.abs((tof1Data[i-1]-tof1Data[i+1])/(timeData[i+1] - timeData[i-1])))\n",
    "\n",
    "velocityData = np.array(velocityData)\n",
    "final_velocity = np.max(velocityData)\n",
    "steady_state_velocity = round(0.9*final_velocity, 3)\n",
    "\n",
    "rise_time_with_delay = timeData[np.argwhere(velocityData>=0.9*final_velocity)[0][0]]\n",
    "rise_time = rise_time_with_delay - 2 # deduct the first 2 sec delay\n",
    "\n",
    "plt.axvline(x=rise_time_with_delay, color='red', linestyle='--', label=f\"rise time with delay:{rise_time_with_delay}s\")\n",
    "plt.plot(timeData[1:unused_index-1], velocityData, linestyle='-', marker='o', color='green', label='velocity')\n",
    "plt.plot(timeData[:unused_index-1], np.ones(np.shape(timeData[:unused_index-1]))*steady_state_velocity, linestyle='--', color='black', label=f'velocity at 90%:{steady_state_velocity}m/s')\n",
    "plt.title(\"velocity vs time\")\n",
    "plt.xlabel(\"time(s)\")\n",
    "plt.ylabel(\"velocity(mm/s)\")\n",
    "plt.legend()\n",
    "plt.show()"
   ]
  },
  {
   "cell_type": "code",
   "execution_count": null,
   "metadata": {},
   "outputs": [],
   "source": [
    "# plot pwm vs time\n",
    "plt.plot(timeData[:unused_index], leftPWM[:unused_index], linestyle='-', marker='o', color='red', label='pwm')\n",
    "plt.title(\"pwm vs time\")\n",
    "plt.xlabel(\"time(s)\")\n",
    "plt.ylabel(\"pwm\")\n",
    "plt.show()"
   ]
  },
  {
   "cell_type": "code",
   "execution_count": null,
   "metadata": {},
   "outputs": [],
   "source": [
    "# save the readings data\n",
    "# Stack the arrays vertically\n",
    "data = np.vstack((timeData, tof1Data))\n",
    "\n",
    "# Get the current date and time\n",
    "now = datetime.now()\n",
    "\n",
    "# Format the date and time as a string\n",
    "date_time_str = now.strftime(\"%Y-%m-%d_%H-%M-%S\")\n",
    "\n",
    "# Set float format to avoid scientific notation\n",
    "float_format = \"%.8f\"\n",
    "\n",
    "# Create the filename with the date and time\n",
    "filename = f\"/Users/harrypeng/Desktop/ECE4160/lab1/ble_robot-1.1/ble_python/kalman_readings_csv/time_dist_{date_time_str}.csv\"\n",
    "\n",
    "# Save the data to a CSV file\n",
    "np.savetxt(filename, data.T, delimiter=\",\", header=\"timeData,tof1Data\", comments=\"\", fmt=float_format)\n"
   ]
  },
  {
   "cell_type": "code",
   "execution_count": null,
   "metadata": {},
   "outputs": [],
   "source": [
    "print(steady_state_velocity)\n",
    "print(rise_time)"
   ]
  },
  {
   "cell_type": "code",
   "execution_count": null,
   "metadata": {},
   "outputs": [],
   "source": [
    "# calculate d and m\n",
    "\n",
    "drag = 1 / steady_state_velocity\n",
    "\n",
    "momentum = -drag * rise_time / np.log(1-0.9)\n",
    "\n",
    "print(\"drag = \", drag, \"\\tmomentum = \", momentum)"
   ]
  },
  {
   "cell_type": "code",
   "execution_count": null,
   "metadata": {},
   "outputs": [],
   "source": [
    "### average the d and m\n",
    "drag1 = 0.8375209380234506\n",
    "momentum1 = 1.4287342754740142\n",
    "\n",
    "drag2 = 0.7739938080495355\n",
    "momentum2 = 1.2874209486760482\n",
    "\n",
    "avg_drag = (drag1 + drag2) / 2\n",
    "avg_momentum = (momentum1 + momentum2) / 2\n",
    "\n",
    "print(f\"average drag = {avg_drag} \\taverage momentum = {avg_momentum}\")"
   ]
  },
  {
   "cell_type": "markdown",
   "metadata": {},
   "source": [
    "**KF Initialization**"
   ]
  },
  {
   "cell_type": "code",
   "execution_count": null,
   "metadata": {},
   "outputs": [],
   "source": [
    "n = 2\n",
    "dt = timeData[1] - timeData[0]\n",
    "A = np.array([[0, 1], [0, -avg_drag/avg_momentum]])\n",
    "B = np.array([[0], [1/avg_momentum]])\n",
    "C = np.array([[-1, 0]])\n",
    "Ad = np.eye(n) + dt * A\n",
    "Bd = dt * B\n",
    "print(dt)"
   ]
  },
  {
   "cell_type": "markdown",
   "metadata": {},
   "source": [
    "Noise Initializaition"
   ]
  },
  {
   "cell_type": "code",
   "execution_count": null,
   "metadata": {},
   "outputs": [],
   "source": [
    "sigma_1 = 0.02  # trust in modeled position\n",
    "sigma_2 = 0.1   # trust in modeled velocity\n",
    "sigma_3 = 0.02  # trust in measurement \n",
    "Sigma_z = np.array([[sigma_3**2]])\n",
    "Sigma_u = np.array([[sigma_1**2, 0], [0, sigma_2**2]])"
   ]
  },
  {
   "cell_type": "code",
   "execution_count": null,
   "metadata": {},
   "outputs": [],
   "source": [
    "# mu -> state estimate\n",
    "# sigma -> state uncertainty\n",
    "# u -> input\n",
    "# y -> state from measurement\n",
    "def kf (mu, sigma, u, y, Sigma_u, Sigma_z) :\n",
    "    mu_p = np.dot(Ad, mu) + np.dot(Bd, u)\n",
    "    sigma_p = np.dot(Ad, np.dot(sigma, np.transpose(Ad))) + Sigma_u\n",
    "    sigma_m = np.dot(C, np.dot(sigma_p, np.transpose(C))) + Sigma_z\n",
    "    kkf_gain = np.dot(sigma_p, np.dot(np.transpose(C), np.linalg.inv(sigma_m)))\n",
    "    y_m = y - np.dot(C, mu_p)\n",
    "    mu = mu_p + np.dot(kkf_gain, y_m)\n",
    "    sigma = np.dot((np.eye(2) - np.dot(kkf_gain, C)), sigma_p)\n",
    "    return mu, sigma"
   ]
  },
  {
   "cell_type": "code",
   "execution_count": null,
   "metadata": {},
   "outputs": [],
   "source": [
    "# Define the filename \n",
    "filename = \"/Users/harrypeng/Desktop/ECE4160/lab1/ble_robot-1.1/ble_python/kalman_readings_csv/time_pwm_distance_2024-03-20_19-22-01.csv\"\n",
    "\n",
    "# Load the data from the CSV file\n",
    "loaded_data = np.loadtxt(filename, delimiter=',', skiprows=1)  # skip the header row\n",
    "\n",
    "# Split the loaded data into two arrays\n",
    "timeData = np.array(loaded_data[:, 0])/1000  # unit: s\n",
    "pwm = np.array(loaded_data[:, 1])/120        # scaled PWM values\n",
    "distanceData = np.array(loaded_data[:, 2]) / 1000   # unit: m\n"
   ]
  },
  {
   "cell_type": "code",
   "execution_count": null,
   "metadata": {},
   "outputs": [],
   "source": [
    "## initial state\n",
    "x = np.array([[-distanceData[0]], [0]])\n",
    "sigma = np.array([[sigma_3, 0], [0, sigma_3]])\n",
    "\n",
    "kf_prediction = []\n",
    "for i in range(len(timeData)):\n",
    "    x, sigma = kf(x, sigma, [[pwm[i]]], [[-distanceData[i]]], Sigma_u, Sigma_z)\n",
    "    kf_prediction.append(x[0][0])"
   ]
  },
  {
   "cell_type": "code",
   "execution_count": null,
   "metadata": {},
   "outputs": [],
   "source": [
    "plt.figure(figsize=(15, 10))\n",
    "plt.plot(timeData, distanceData, linestyle='-', color='red', label='ToF Dist')\n",
    "plt.plot(timeData, np.array(kf_prediction), linestyle='-', color='blue', label='KF Pred')\n",
    "plt.legend()\n",
    "plt.show()\n"
   ]
  },
  {
   "cell_type": "markdown",
   "metadata": {},
   "source": [
    "## Disconnect"
   ]
  },
  {
   "cell_type": "code",
   "execution_count": null,
   "metadata": {},
   "outputs": [],
   "source": [
    "# Disconnect\n",
    "ble.disconnect()"
   ]
  },
  {
   "cell_type": "code",
   "execution_count": null,
   "metadata": {},
   "outputs": [],
   "source": []
  }
 ],
 "metadata": {
  "kernelspec": {
   "display_name": "FastRobots_ble",
   "language": "python",
   "name": "python3"
  },
  "language_info": {
   "codemirror_mode": {
    "name": "ipython",
    "version": 3
   },
   "file_extension": ".py",
   "mimetype": "text/x-python",
   "name": "python",
   "nbconvert_exporter": "python",
   "pygments_lexer": "ipython3",
   "version": "3.11.7"
  }
 },
 "nbformat": 4,
 "nbformat_minor": 2
}
