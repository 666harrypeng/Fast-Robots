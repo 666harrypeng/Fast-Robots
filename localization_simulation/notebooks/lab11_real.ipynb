{
 "cells": [
  {
   "cell_type": "markdown",
   "metadata": {
    "tags": []
   },
   "source": [
    "# Lab 11: Grid Localization using Bayes Filter (Real Robot)\n",
    "\n",
    "### <span style=\"color:rgb(0,150,0)\">It is recommended that you close any heavy-duty applications running on your system while working on this lab.</span>\n",
    "\n",
    "### <span style=\"color:rgb(0,150,0)\">The notebook only provides skeleton code for you to integrate the Localization class with the Real Robot.</span>\n",
    "\n",
    "<hr>"
   ]
  },
  {
   "cell_type": "code",
   "execution_count": 1,
   "metadata": {},
   "outputs": [
    {
     "name": "stdout",
     "output_type": "stream",
     "text": [
      "2024-05-05 17:18:31,749 |\u001b[32m INFO     \u001b[0m|: Logger demo_notebook.log initialized.\n"
     ]
    }
   ],
   "source": [
    "%load_ext autoreload\n",
    "%autoreload 2\n",
    "\n",
    "import traceback\n",
    "from notebook_utils import *\n",
    "from Traj import *\n",
    "import asyncio\n",
    "import pathlib\n",
    "import os\n",
    "from utils import load_config_params\n",
    "from localization_extras import Localization\n",
    "\n",
    "# The imports below will only work if you copied the required ble-related python files \n",
    "# into the notebooks directory\n",
    "from ble import get_ble_controller\n",
    "from base_ble import LOG\n",
    "from cmd_types import CMD\n",
    "import numpy as np\n",
    "\n",
    "# Setup Logger\n",
    "LOG = get_logger('demo_notebook.log')\n",
    "LOG.propagate = False\n",
    "\n",
    "# Init GUI and Commander\n",
    "gui = GET_GUI()\n",
    "cmdr = gui.launcher.commander"
   ]
  },
  {
   "cell_type": "code",
   "execution_count": 2,
   "metadata": {},
   "outputs": [],
   "source": [
    "# Start the plotter\n",
    "START_PLOTTER()"
   ]
  },
  {
   "cell_type": "markdown",
   "metadata": {},
   "source": [
    "# The RealRobot class\n",
    "Define the RealRobot class in the code cell below, based on the documentation and your real robot communication protocol. <br>\n",
    "This class is used by the **Localization** class to communicate with the real robot. <br>\n",
    "More specifically, the **Localization** class utilizes the **RealRobot's** member function **perform_observation_loop()** to get the 18 sensor readings and store them in its member variable **obs_range_data**, which is then utilized in the update step."
   ]
  },
  {
   "cell_type": "code",
   "execution_count": 3,
   "metadata": {},
   "outputs": [],
   "source": [
    "class RealRobot():\n",
    "    \"\"\"A class to interact with the real robot\n",
    "    \"\"\"\n",
    "    def __init__(self, commander, ble):\n",
    "        # Load world config\n",
    "        self.world_config = os.path.join(str(pathlib.Path(os.getcwd()).parent), \"config\", \"world.yaml\")\n",
    "        \n",
    "        self.config_params = load_config_params(self.world_config)\n",
    "        \n",
    "        # Commander to commuincate with the Plotter process\n",
    "        # Used by the Localization module to plot odom and belief\n",
    "        self.cmdr = commander\n",
    "\n",
    "        # ArtemisBLEController to communicate with the Robot\n",
    "        self.ble = ble\n",
    "\n",
    "    def get_pose(self):\n",
    "        \"\"\"Get robot pose based on odometry\n",
    "        \n",
    "        Returns:\n",
    "            current_odom -- Odometry Pose (meters, meters, degrees)\n",
    "        \"\"\"\n",
    "        raise NotImplementedError(\"get_pose is not implemented\")\n",
    "        \n",
    "    def mapping_final_angle_notification_handler(self, uuid, char_bytearr):\n",
    "        global robot_angles, tof1_mapping_readings, tof2_mapping_readings\n",
    "        string = self.ble.bytearray_to_string(char_bytearr)\n",
    "        parts = string.split(\"|\")  \n",
    "        # print(parts)\n",
    "        robot_angles.append(float(parts[0][4:]))\n",
    "        tof1_mapping_readings.append(float(parts[1][5:]))\n",
    "        tof2_mapping_readings.append(float(parts[2][5:]))\n",
    "\n",
    "\n",
    "\n",
    "    def perform_observation_loop(self, rot_vel=120):\n",
    "        \"\"\"Perform the observation loop behavior on the real robot, where the robot does  \n",
    "        a 360 degree turn in place while collecting equidistant (in the angular space) sensor\n",
    "        readings, with the first sensor reading taken at the robot's current heading. \n",
    "        The number of sensor readings depends on \"observations_count\"(=18) defined in world.yaml.\n",
    "        \n",
    "        Keyword arguments:\n",
    "            rot_vel -- (Optional) Angular Velocity for loop (degrees/second)\n",
    "                        Do not remove this parameter from the function definition, even if you don't use it.\n",
    "        Returns:\n",
    "            sensor_ranges   -- A column numpy array of the range values (meters)\n",
    "            sensor_bearings -- A column numpy array of the bearings at which the sensor readings were taken (degrees)\n",
    "                               The bearing values are not used in the Localization module, so you may return a empty numpy array\n",
    "        \"\"\"\n",
    "        # initialize the PID parameters\n",
    "        self.ble.send_command(CMD.PID_STATUS_INI, \"1\")\n",
    "        self.ble.send_command(CMD.SET_ORIENT_PID_VALUES, \"|3|0.01|0.2\")\n",
    "        \n",
    "        # rotation\n",
    "        self.ble.send_command(CMD.PID_ANGLE_INCREMENT, \"\")\n",
    "        \n",
    "        # send data (only use the front TOF data)\n",
    "        global robot_angles, tof1_mapping_readings, tof2_mapping_readings\n",
    "        print(\"Start Sending Data!\")\n",
    "        self.ble.send_command(CMD.SEND_PID_ANGLE_INCREMENT_DEBUG_READINGS, \"1\")\n",
    "        \n",
    "        while (len(robot_angles) < 18) or (len(tof1_mapping_readings) < 18*10):   # if the data has not been all collected, just wait\n",
    "            asyncio.run(asyncio.sleep(2))\n",
    "        \n",
    "        observations_count=self.config_params[\"mapper\"][\"observations_count\"] # 18\n",
    "\n",
    "        sensor_ranges = []\n",
    "        sensor_bearings = []\n",
    "        \n",
    "        # get the unique elements and keep the raw order of the elements\n",
    "        robot_angles_unique_elements, robot_angles_unique_indices = np.unique(robot_angles, return_index=True)\n",
    "        robot_angles_sorted_indices = np.argsort(robot_angles_unique_indices)\n",
    "        robot_angles = robot_angles_unique_elements[robot_angles_sorted_indices]\n",
    "        \n",
    "        # take the stable tof readings and keep the avg value as the final readings\n",
    "        def remove_outliers(readings):\n",
    "            q1 = np.percentile(readings, 25)\n",
    "            q3 = np.percentile(readings, 75)\n",
    "            iqr = q3 - q1\n",
    "            lower_bound = q1 - 1.5 * iqr\n",
    "            upper_bound = q3 + 1.5 * iqr\n",
    "            \n",
    "            # print(readings)\n",
    "            filtered_readings = [x for x in readings if lower_bound <= x and x <= upper_bound]\n",
    "            return filtered_readings\n",
    "\n",
    "        def calculate_average(readings):\n",
    "            stable_readings = remove_outliers(readings)\n",
    "            if stable_readings:\n",
    "                return np.mean(stable_readings)\n",
    "            else:\n",
    "                return None  # Or handle the case where all readings are considered outliers\n",
    "\n",
    "\n",
    "        tof1_mapping_readings = np.array(tof1_mapping_readings).reshape(18, 10)\n",
    "        tof2_mapping_readings = np.array(tof2_mapping_readings).reshape(18, 10)\n",
    "        \n",
    "        for i in range(np.shape(tof1_mapping_readings)[0]):\n",
    "            tof1_mapping_readings[i] = calculate_average(tof1_mapping_readings[i])\n",
    "            tof2_mapping_readings[i] = calculate_average(tof2_mapping_readings[i])\n",
    "\n",
    "        if (len(np.shape(tof1_mapping_readings)) > 1):\n",
    "            tof1_mapping_readings = np.mean(tof1_mapping_readings, axis=1)\n",
    "            tof2_mapping_readings = np.mean(tof2_mapping_readings, axis=1)\n",
    "            \n",
    "        tof1_mapping_readings = tof1_mapping_readings.tolist()\n",
    "        tof2_mapping_readings = tof2_mapping_readings.tolist()\n",
    "        robot_angles = robot_angles.tolist()\n",
    "        # re-order the data list: [20, 360] -> [0, 340]\n",
    "        robot_angles.insert(0, robot_angles[-1])\n",
    "        robot_angles = robot_angles[:-1]\n",
    "        tof1_mapping_readings.insert(0, tof1_mapping_readings[-1])\n",
    "        tof1_mapping_readings = tof1_mapping_readings[:-1]\n",
    "        tof2_mapping_readings.insert(0, tof2_mapping_readings[-1])\n",
    "        tof2_mapping_readings = tof2_mapping_readings[:-1]\n",
    "        robot_angles[0] = 0 # 360 -> 0\n",
    "        \n",
    "        for i in range(observations_count):\n",
    "            sensor_ranges.append(tof1_mapping_readings[i]/1000)\n",
    "            sensor_bearings.append(robot_angles[i])\n",
    "\n",
    "        sensor_ranges = np.array(sensor_ranges).reshape(-1, 1)\n",
    "        sensor_bearings = np.array(sensor_bearings).reshape(-1, 1)\n",
    "        \n",
    "        return sensor_ranges,sensor_bearings"
   ]
  },
  {
   "cell_type": "code",
   "execution_count": 4,
   "metadata": {},
   "outputs": [
    {
     "name": "stdout",
     "output_type": "stream",
     "text": [
      "2024-05-05 17:18:32,455 |\u001b[32m INFO     \u001b[0m|: Looking for Artemis Nano Peripheral Device: c0:42:30:78:92:49\n"
     ]
    },
    {
     "name": "stdout",
     "output_type": "stream",
     "text": [
      "2024-05-05 17:18:35,485 |\u001b[32m INFO     \u001b[0m|: Connected to c0:42:30:78:92:49\n"
     ]
    },
    {
     "name": "stderr",
     "output_type": "stream",
     "text": [
      "/Users/harrypeng/Desktop/ECE4160/FastRobots-sim-release-release-mirror/notebooks/base_ble.py:104: FutureWarning: This method will be removed future version, pass the callback to the BleakClient constructor instead.\n",
      "  self.client.set_disconnected_callback(self.disconnect_handler)\n"
     ]
    }
   ],
   "source": [
    "# Get ArtemisBLEController object\n",
    "ble = get_ble_controller()\n",
    "\n",
    "# Connect to the Artemis Device\n",
    "ble.connect()"
   ]
  },
  {
   "cell_type": "code",
   "execution_count": 5,
   "metadata": {},
   "outputs": [],
   "source": [
    "# for collecting the data\n",
    "robot_angles = []\n",
    "tof1_mapping_readings = []\n",
    "tof2_mapping_readings = []"
   ]
  },
  {
   "cell_type": "code",
   "execution_count": 6,
   "metadata": {},
   "outputs": [
    {
     "name": "stdout",
     "output_type": "stream",
     "text": [
      "2024-05-05 17:18:36,564 |\u001b[32m INFO     \u001b[0m|:  | Number of observations per grid cell: 18\n",
      "2024-05-05 17:18:36,566 |\u001b[32m INFO     \u001b[0m|:  | Precaching Views...\n"
     ]
    },
    {
     "name": "stderr",
     "output_type": "stream",
     "text": [
      "/Users/harrypeng/Desktop/ECE4160/FastRobots-sim-release-release-mirror/localization.py:150: RuntimeWarning: All-NaN slice encountered\n",
      "  return np.nanmin(distance_intersections_tt), intersections_tt[np.nanargmin(distance_intersections_tt)]\n"
     ]
    },
    {
     "name": "stdout",
     "output_type": "stream",
     "text": [
      "2024-05-05 17:18:39,303 |\u001b[32m INFO     \u001b[0m|:  | Precaching Time: 2.736 secs\n",
      "2024-05-05 17:18:39,306 |\u001b[32m INFO     \u001b[0m|: Initializing beliefs with a Uniform Distribution\n",
      "2024-05-05 17:18:39,308 |\u001b[32m INFO     \u001b[0m|: Uniform Belief with each cell value: 0.00051440329218107\n"
     ]
    }
   ],
   "source": [
    "# Initialize RealRobot with a Commander object to communicate with the plotter process\n",
    "# and the ArtemisBLEController object to communicate with the real robot\n",
    "robot = RealRobot(cmdr, ble)\n",
    "\n",
    "#\n",
    "# ble.stop_notify(ble.uuid[\"RX_STRING\"])\n",
    "\n",
    "ble.start_notify(ble.uuid[\"RX_STRING\"], robot.mapping_final_angle_notification_handler)\n",
    "#\n",
    "\n",
    "# Initialize mapper\n",
    "# Requires a VirtualRobot object as a parameter\n",
    "mapper = Mapper(robot)\n",
    "\n",
    "# Initialize your BaseLocalization object\n",
    "# Requires a RealRobot object and a Mapper object as parameters\n",
    "loc = Localization(robot, mapper)\n",
    "\n",
    "## Plot Map\n",
    "cmdr.plot_map()"
   ]
  },
  {
   "cell_type": "markdown",
   "metadata": {},
   "source": [
    "# Run an update step of the Bayes Filter"
   ]
  },
  {
   "cell_type": "code",
   "execution_count": 7,
   "metadata": {},
   "outputs": [
    {
     "name": "stdout",
     "output_type": "stream",
     "text": [
      "2024-05-05 17:18:39,564 |\u001b[32m INFO     \u001b[0m|: Initializing beliefs with a Uniform Distribution\n",
      "2024-05-05 17:18:39,565 |\u001b[32m INFO     \u001b[0m|: Uniform Belief with each cell value: 0.00051440329218107\n",
      "Start Sending Data!\n",
      "2024-05-05 17:19:05,213 |\u001b[32m INFO     \u001b[0m|: Update Step\n",
      "2024-05-05 17:19:05,215 |\u001b[32m INFO     \u001b[0m|:      | Update Time: 0.001 secs\n",
      "2024-05-05 17:19:05,216 |\u001b[32m INFO     \u001b[0m|: Bel index     : (8, 0, 6) with prob = 0.6367104\n",
      "2024-05-05 17:19:05,217 |\u001b[32m INFO     \u001b[0m|: Bel_bar prob at index = 0.00051440329218107\n",
      "2024-05-05 17:19:05,217 |\u001b[32m INFO     \u001b[0m|: Belief        : (0.914, -1.219, -50.000)\n",
      "Ground Truth: (1.524, -0.9144000000000001, 0)\n"
     ]
    },
    {
     "name": "stderr",
     "output_type": "stream",
     "text": [
      "qt.pointer.dispatch: skipping QEventPoint(id=1 ts=0 pos=0,0 scn=487.388,227.866 gbl=487.388,227.866 Released ellipse=(1x1 ∡ 0) vel=0,0 press=-487.388,-227.866 last=-487.388,-227.866 Δ 487.388,227.866) : no target window\n"
     ]
    },
    {
     "name": "stdout",
     "output_type": "stream",
     "text": [
      "2024-05-05 17:19:28,198 |\u001b[32m INFO     \u001b[0m|: Disconnected from 1EF8FB8D-1A06-FB11-4002-B52B84BE3598\n"
     ]
    },
    {
     "name": "stderr",
     "output_type": "stream",
     "text": [
      "qt.pointer.dispatch: skipping QEventPoint(id=4 ts=0 pos=0,0 scn=471.179,460.33 gbl=471.179,460.33 Released ellipse=(1x1 ∡ 0) vel=0,0 press=-471.179,-460.33 last=-471.179,-460.33 Δ 471.179,460.33) : no target window\n",
      "Traceback (most recent call last):\n",
      "  File \"/Users/harrypeng/Desktop/ECE4160/FastRobots-sim-release-release-mirror/src/plotter.py\", line 252, in closeEvent\n",
      "    result = QtGui.QMessageBox.question(self,\n",
      "AttributeError: module 'pyqtgraph.Qt.QtGui' has no attribute 'QMessageBox'\n"
     ]
    }
   ],
   "source": [
    "# Reset Plots\n",
    "cmdr.reset_plotter()\n",
    "\n",
    "# Init Uniform Belief\n",
    "loc.init_grid_beliefs()\n",
    "\n",
    "\n",
    "# Get Observation Data by executing a 360 degree rotation motion\n",
    "loc.get_observation_data()\n",
    "\n",
    "# Run Update Step\n",
    "loc.update_step()\n",
    "loc.plot_update_step_data(plot_data=True)\n",
    "\n",
    "unit_convert_factor = 0.3048\n",
    "test_point_coordinates = np.array([5, -3])\n",
    "converted_test_pt_coordinates = test_point_coordinates * unit_convert_factor\n",
    "cmdr.plot_gt(converted_test_pt_coordinates[0], converted_test_pt_coordinates[1])\n",
    "print(f\"Ground Truth: ({converted_test_pt_coordinates[0]}, {converted_test_pt_coordinates[1]}, 0)\")\n",
    "# (-3 ft ,-2 ft ,0 deg)\n",
    "# (0 ft,3 ft, 0 deg)\n",
    "# (5 ft,-3 ft, 0 deg)\n",
    "# (5 ft,3 ft, 0 deg)\n",
    "\n",
    "# Plot Odom and GT\n",
    "# current_odom, current_gt = robot.get_pose()\n",
    "# cmdr.plot_gt(current_gt[0], current_gt[1])\n",
    "# cmdr.plot_odom(current_odom[0], current_odom[1])"
   ]
  },
  {
   "cell_type": "code",
   "execution_count": null,
   "metadata": {},
   "outputs": [],
   "source": []
  }
 ],
 "metadata": {
  "kernelspec": {
   "display_name": "Python 3 (ipykernel)",
   "language": "python",
   "name": "python3"
  },
  "language_info": {
   "codemirror_mode": {
    "name": "ipython",
    "version": 3
   },
   "file_extension": ".py",
   "mimetype": "text/x-python",
   "name": "python",
   "nbconvert_exporter": "python",
   "pygments_lexer": "ipython3",
   "version": "3.10.14"
  }
 },
 "nbformat": 4,
 "nbformat_minor": 4
}
