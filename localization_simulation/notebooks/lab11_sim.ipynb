{
 "cells": [
  {
   "cell_type": "markdown",
   "metadata": {},
   "source": [
    "# Lab 11: Grid Localization using Bayes Filter (Virtual Robot)\n",
    "\n",
    "### <span style=\"color:rgb(0,150,0)\">It is recommended that you close any heavy-duty applications running on your system while working on this lab.</span>\n",
    "\n",
    "<hr>\n"
   ]
  },
  {
   "cell_type": "code",
   "execution_count": 1,
   "metadata": {},
   "outputs": [
    {
     "name": "stdout",
     "output_type": "stream",
     "text": [
      "2024-04-28 16:04:54,945 |\u001b[32m INFO     \u001b[0m|: Logger demo_notebook.log initialized.\n"
     ]
    },
    {
     "data": {
      "application/vnd.jupyter.widget-view+json": {
       "model_id": "e65eea960a614a5fae9170c31b504561",
       "version_major": 2,
       "version_minor": 0
      },
      "text/plain": [
       "TwoByTwoLayout(children=(Label(value='Simulator', layout=Layout(grid_area='top-left', width='80px')), HBox(chi…"
      ]
     },
     "metadata": {},
     "output_type": "display_data"
    },
    {
     "name": "stdout",
     "output_type": "stream",
     "text": [
      "Loading Flatland...\n",
      "Initializing pygame framework...\n"
     ]
    },
    {
     "name": "stderr",
     "output_type": "stream",
     "text": [
      "qt.pointer.dispatch: skipping QEventPoint(id=1 ts=0 pos=0,0 scn=614.357,633.614 gbl=614.357,633.614 Released ellipse=(1x1 ∡ 0) vel=0,0 press=-614.357,-633.614 last=-614.357,-633.614 Δ 614.357,633.614) : no target window\n"
     ]
    },
    {
     "name": "stdout",
     "output_type": "stream",
     "text": [
      "2024-04-28 16:19:48,187 |\u001b[32m INFO     \u001b[0m|: Simulator is stopped\n",
      "2024-04-28 16:19:48,797 |\u001b[32m INFO     \u001b[0m|: Plotter is stopped\n"
     ]
    }
   ],
   "source": [
    "%load_ext autoreload\n",
    "%autoreload 2\n",
    "\n",
    "import traceback\n",
    "from notebook_utils import *\n",
    "from Traj import *\n",
    "import asyncio\n",
    "from localization_extras import Localization\n",
    "\n",
    "# Setup Logger\n",
    "LOG = get_logger('demo_notebook.log')\n",
    "\n",
    "# Init GUI and Commander\n",
    "gui = GET_GUI()\n",
    "cmdr = gui.launcher.commander\n",
    "\n",
    "gui.show()\n",
    "\n",
    "# Start the simulator\n",
    "START_SIM()\n",
    "\n",
    "# Start the plotter\n",
    "START_PLOTTER()"
   ]
  },
  {
   "cell_type": "code",
   "execution_count": 2,
   "metadata": {},
   "outputs": [
    {
     "name": "stdout",
     "output_type": "stream",
     "text": [
      "2024-04-28 16:07:46,997 |\u001b[32m INFO     \u001b[0m|:  | Number of observations per grid cell: 18\n",
      "2024-04-28 16:07:46,998 |\u001b[32m INFO     \u001b[0m|:  | Precaching Views...\n"
     ]
    },
    {
     "name": "stderr",
     "output_type": "stream",
     "text": [
      "/Users/harrypeng/Desktop/ECE4160/FastRobots-sim-release-release-mirror/localization.py:150: RuntimeWarning: All-NaN slice encountered\n",
      "  return np.nanmin(distance_intersections_tt), intersections_tt[np.nanargmin(distance_intersections_tt)]\n"
     ]
    },
    {
     "name": "stdout",
     "output_type": "stream",
     "text": [
      "2024-04-28 16:07:48,188 |\u001b[32m INFO     \u001b[0m|:  | Precaching Time: 1.189 secs\n",
      "2024-04-28 16:07:48,188 |\u001b[32m INFO     \u001b[0m|: Initializing beliefs with a Uniform Distribution\n",
      "2024-04-28 16:07:48,189 |\u001b[32m INFO     \u001b[0m|: Uniform Belief with each cell value: 0.00051440329218107\n"
     ]
    },
    {
     "name": "stderr",
     "output_type": "stream",
     "text": [
      "qt.pointer.dispatch: skipping QEventPoint(id=1 ts=0 pos=0,0 scn=1037.14,195.703 gbl=1037.14,195.703 Released ellipse=(1x1 ∡ 0) vel=0,0 press=-1037.14,-195.703 last=-1037.14,-195.703 Δ 1037.14,195.703) : no target window\n"
     ]
    }
   ],
   "source": [
    "# Initialize Robot to communicate with the virtual robot and plotter\n",
    "robot = VirtualRobot(cmdr)\n",
    "\n",
    "# Initialize mapper\n",
    "# Requires a VirtualRobot object as a parameter\n",
    "mapper = Mapper(robot)\n",
    "\n",
    "# Initialize your BaseLocalization object\n",
    "# Requires a VirtualRobot object and a Mapper object as parameters\n",
    "loc = Localization(robot, mapper)\n",
    "\n",
    "## Plot Map\n",
    "cmdr.plot_map()"
   ]
  },
  {
   "cell_type": "markdown",
   "metadata": {},
   "source": [
    "# Run the Bayes Filter\n",
    "The cells below utilizes the member functions of class **Localization** (defined in [localization_extras.py](../localization_extras.py)) in each iteration of the Bayes filter algorithm to localize the robot in the grid map. <br>"
   ]
  },
  {
   "cell_type": "code",
   "execution_count": 3,
   "metadata": {},
   "outputs": [
    {
     "name": "stdout",
     "output_type": "stream",
     "text": [
      "2024-04-28 16:07:57,936 |\u001b[32m INFO     \u001b[0m|: Initializing beliefs with a Uniform Distribution\n",
      "2024-04-28 16:07:57,937 |\u001b[32m INFO     \u001b[0m|: Uniform Belief with each cell value: 0.00051440329218107\n",
      "2024-04-28 16:08:01,024 |\u001b[32m INFO     \u001b[0m|: Update Step\n",
      "2024-04-28 16:08:01,026 |\u001b[32m INFO     \u001b[0m|:      | Update Time: 0.001 secs\n",
      "2024-04-28 16:08:01,027 |\u001b[32m INFO     \u001b[0m|: ---------- UPDATE STATS -----------\n",
      "2024-04-28 16:08:01,037 |\u001b[32m INFO     \u001b[0m|: GT index      : (6, 4, 9)\n",
      "2024-04-28 16:08:01,037 |\u001b[32m INFO     \u001b[0m|: Bel index     : (5, 4, 9) with prob = 0.8760402\n",
      "2024-04-28 16:08:01,038 |\u001b[32m INFO     \u001b[0m|: Bel_bar prob at index = 0.00051440329218107\n",
      "2024-04-28 16:08:01,038 |\u001b[32m INFO     \u001b[0m|: GT            : (0.000, 0.000, 360.000)\n",
      "2024-04-28 16:08:01,039 |\u001b[32m INFO     \u001b[0m|: Belief        : (0.000, 0.000, 10.000)\n",
      "2024-04-28 16:08:01,039 |\u001b[32m INFO     \u001b[0m|: POS ERROR     : (-0.000, -0.000, 350.000)\n",
      "2024-04-28 16:08:01,040 |\u001b[32m INFO     \u001b[0m|: ---------- UPDATE STATS -----------\n"
     ]
    },
    {
     "name": "stderr",
     "output_type": "stream",
     "text": [
      "qt.pointer.dispatch: skipping QEventPoint(id=4 ts=0 pos=0,0 scn=875.384,533.888 gbl=875.384,533.888 Released ellipse=(1x1 ∡ 0) vel=0,0 press=-875.384,-533.888 last=-875.384,-533.888 Δ 875.384,533.888) : no target window\n"
     ]
    }
   ],
   "source": [
    "# Reset Robot and Plots\n",
    "robot.reset()\n",
    "cmdr.reset_plotter()\n",
    "\n",
    "# Init Uniform Belief\n",
    "loc.init_grid_beliefs()\n",
    "\n",
    "# Get Observation Data by executing a 360 degree rotation motion\n",
    "loc.get_observation_data()\n",
    "\n",
    "# Run Update Step\n",
    "loc.update_step()\n",
    "loc.print_update_stats(plot_data=True)\n",
    "\n",
    "# Plot Odom and GT\n",
    "current_odom, current_gt = robot.get_pose()\n",
    "cmdr.plot_gt(current_gt[0], current_gt[1])\n",
    "cmdr.plot_odom(current_odom[0], current_odom[1])"
   ]
  },
  {
   "cell_type": "code",
   "execution_count": 4,
   "metadata": {},
   "outputs": [
    {
     "name": "stdout",
     "output_type": "stream",
     "text": [
      "\n",
      "\n",
      "----------------- 0 -----------------\n",
      "2024-04-28 16:08:07,394 |\u001b[32m INFO     \u001b[0m|: Prediction Step\n",
      "2024-04-28 16:08:07,426 |\u001b[32m INFO     \u001b[0m|:  | Prediction Time: 0.031 secs\n",
      "2024-04-28 16:08:07,427 |\u001b[32m INFO     \u001b[0m|: ---------- PREDICTION STATS -----------\n",
      "2024-04-28 16:08:07,443 |\u001b[32m INFO     \u001b[0m|: GT index         : (6, 3, 7)\n",
      "2024-04-28 16:08:07,444 |\u001b[32m INFO     \u001b[0m|: Prior Bel index  : (5, 3, 5) with prob = 0.1064646\n",
      "2024-04-28 16:08:07,444 |\u001b[32m INFO     \u001b[0m|: POS ERROR        : (0.277, 0.220, 30.179)\n",
      "2024-04-28 16:08:07,445 |\u001b[32m INFO     \u001b[0m|: ---------- PREDICTION STATS -----------\n",
      "2024-04-28 16:08:10,376 |\u001b[32m INFO     \u001b[0m|: Update Step\n",
      "2024-04-28 16:08:10,380 |\u001b[32m INFO     \u001b[0m|:      | Update Time: 0.003 secs\n",
      "2024-04-28 16:08:10,381 |\u001b[32m INFO     \u001b[0m|: ---------- UPDATE STATS -----------\n",
      "2024-04-28 16:08:10,388 |\u001b[32m INFO     \u001b[0m|: GT index      : (6, 3, 7)\n",
      "2024-04-28 16:08:10,390 |\u001b[32m INFO     \u001b[0m|: Bel index     : (6, 4, 6) with prob = 0.9999999\n",
      "2024-04-28 16:08:10,391 |\u001b[32m INFO     \u001b[0m|: Bel_bar prob at index = 2.9362237215911855e-11\n",
      "2024-04-28 16:08:10,391 |\u001b[32m INFO     \u001b[0m|: GT            : (0.277, -0.084, 320.179)\n",
      "2024-04-28 16:08:10,393 |\u001b[32m INFO     \u001b[0m|: Belief        : (0.305, 0.000, -50.000)\n",
      "2024-04-28 16:08:10,395 |\u001b[32m INFO     \u001b[0m|: POS ERROR     : (-0.027, -0.084, 370.179)\n",
      "2024-04-28 16:08:10,397 |\u001b[32m INFO     \u001b[0m|: ---------- UPDATE STATS -----------\n",
      "-------------------------------------\n",
      "\n",
      "\n",
      "----------------- 1 -----------------\n",
      "2024-04-28 16:08:12,426 |\u001b[32m INFO     \u001b[0m|: Prediction Step\n",
      "2024-04-28 16:08:12,442 |\u001b[32m INFO     \u001b[0m|:  | Prediction Time: 0.016 secs\n",
      "2024-04-28 16:08:12,443 |\u001b[32m INFO     \u001b[0m|: ---------- PREDICTION STATS -----------\n",
      "2024-04-28 16:08:12,459 |\u001b[32m INFO     \u001b[0m|: GT index         : (7, 2, 5)\n",
      "2024-04-28 16:08:12,460 |\u001b[32m INFO     \u001b[0m|: Prior Bel index  : (7, 3, 6) with prob = 0.1445555\n",
      "2024-04-28 16:08:12,460 |\u001b[32m INFO     \u001b[0m|: POS ERROR        : (-0.114, -0.211, 346.879)\n",
      "2024-04-28 16:08:12,461 |\u001b[32m INFO     \u001b[0m|: ---------- PREDICTION STATS -----------\n",
      "2024-04-28 16:08:15,519 |\u001b[32m INFO     \u001b[0m|: Update Step\n",
      "2024-04-28 16:08:15,520 |\u001b[32m INFO     \u001b[0m|:      | Update Time: 0.001 secs\n",
      "2024-04-28 16:08:15,521 |\u001b[32m INFO     \u001b[0m|: ---------- UPDATE STATS -----------\n",
      "2024-04-28 16:08:15,530 |\u001b[32m INFO     \u001b[0m|: GT index      : (7, 2, 5)\n",
      "2024-04-28 16:08:15,530 |\u001b[32m INFO     \u001b[0m|: Bel index     : (6, 2, 5) with prob = 1.0\n",
      "2024-04-28 16:08:15,531 |\u001b[32m INFO     \u001b[0m|: Bel_bar prob at index = 0.006087848364996471\n",
      "2024-04-28 16:08:15,531 |\u001b[32m INFO     \u001b[0m|: GT            : (0.496, -0.515, 656.879)\n",
      "2024-04-28 16:08:15,532 |\u001b[32m INFO     \u001b[0m|: Belief        : (0.305, -0.610, -70.000)\n",
      "2024-04-28 16:08:15,532 |\u001b[32m INFO     \u001b[0m|: POS ERROR     : (0.191, 0.094, 726.879)\n",
      "2024-04-28 16:08:15,533 |\u001b[32m INFO     \u001b[0m|: ---------- UPDATE STATS -----------\n",
      "-------------------------------------\n",
      "\n",
      "\n",
      "----------------- 2 -----------------\n",
      "2024-04-28 16:08:16,577 |\u001b[32m INFO     \u001b[0m|: Prediction Step\n",
      "2024-04-28 16:08:16,593 |\u001b[32m INFO     \u001b[0m|:  | Prediction Time: 0.016 secs\n",
      "2024-04-28 16:08:16,593 |\u001b[32m INFO     \u001b[0m|: ---------- PREDICTION STATS -----------\n",
      "2024-04-28 16:08:16,611 |\u001b[32m INFO     \u001b[0m|: GT index         : (7, 2, 4)\n",
      "2024-04-28 16:08:16,611 |\u001b[32m INFO     \u001b[0m|: Prior Bel index  : (5, 4, 3) with prob = 0.1280791\n",
      "2024-04-28 16:08:16,612 |\u001b[32m INFO     \u001b[0m|: POS ERROR        : (0.496, -0.515, 743.959)\n",
      "2024-04-28 16:08:16,612 |\u001b[32m INFO     \u001b[0m|: ---------- PREDICTION STATS -----------\n",
      "2024-04-28 16:08:20,544 |\u001b[32m INFO     \u001b[0m|: Update Step\n",
      "2024-04-28 16:08:20,546 |\u001b[32m INFO     \u001b[0m|:      | Update Time: 0.001 secs\n",
      "2024-04-28 16:08:20,546 |\u001b[32m INFO     \u001b[0m|: ---------- UPDATE STATS -----------\n",
      "2024-04-28 16:08:20,554 |\u001b[32m INFO     \u001b[0m|: GT index      : (7, 2, 4)\n",
      "2024-04-28 16:08:20,555 |\u001b[32m INFO     \u001b[0m|: Bel index     : (6, 2, 4) with prob = 1.0\n",
      "2024-04-28 16:08:20,555 |\u001b[32m INFO     \u001b[0m|: Bel_bar prob at index = 1.702558742788521e-32\n",
      "2024-04-28 16:08:20,556 |\u001b[32m INFO     \u001b[0m|: GT            : (0.496, -0.515, 993.959)\n",
      "2024-04-28 16:08:20,556 |\u001b[32m INFO     \u001b[0m|: Belief        : (0.305, -0.610, -90.000)\n",
      "2024-04-28 16:08:20,556 |\u001b[32m INFO     \u001b[0m|: POS ERROR     : (0.191, 0.094, 1083.959)\n",
      "2024-04-28 16:08:20,557 |\u001b[32m INFO     \u001b[0m|: ---------- UPDATE STATS -----------\n",
      "-------------------------------------\n",
      "\n",
      "\n",
      "----------------- 3 -----------------\n",
      "2024-04-28 16:08:21,595 |\u001b[32m INFO     \u001b[0m|: Prediction Step\n",
      "2024-04-28 16:08:21,611 |\u001b[32m INFO     \u001b[0m|:  | Prediction Time: 0.016 secs\n",
      "2024-04-28 16:08:21,612 |\u001b[32m INFO     \u001b[0m|: ---------- PREDICTION STATS -----------\n",
      "2024-04-28 16:08:21,629 |\u001b[32m INFO     \u001b[0m|: GT index         : (7, 0, 4)\n",
      "2024-04-28 16:08:21,629 |\u001b[32m INFO     \u001b[0m|: Prior Bel index  : (7, 1, 3) with prob = 0.1741805\n",
      "2024-04-28 16:08:21,630 |\u001b[32m INFO     \u001b[0m|: POS ERROR        : (-0.086, -0.007, 1103.959)\n",
      "2024-04-28 16:08:21,630 |\u001b[32m INFO     \u001b[0m|: ---------- PREDICTION STATS -----------\n",
      "2024-04-28 16:08:25,523 |\u001b[32m INFO     \u001b[0m|: Update Step\n",
      "2024-04-28 16:08:25,524 |\u001b[32m INFO     \u001b[0m|:      | Update Time: 0.001 secs\n",
      "2024-04-28 16:08:25,524 |\u001b[32m INFO     \u001b[0m|: ---------- UPDATE STATS -----------\n",
      "2024-04-28 16:08:25,536 |\u001b[32m INFO     \u001b[0m|: GT index      : (7, 0, 4)\n",
      "2024-04-28 16:08:25,537 |\u001b[32m INFO     \u001b[0m|: Bel index     : (7, 1, 4) with prob = 1.0\n",
      "2024-04-28 16:08:25,537 |\u001b[32m INFO     \u001b[0m|: Bel_bar prob at index = 0.0662798855179795\n",
      "2024-04-28 16:08:25,539 |\u001b[32m INFO     \u001b[0m|: GT            : (0.524, -0.921, 1353.959)\n",
      "2024-04-28 16:08:25,543 |\u001b[32m INFO     \u001b[0m|: Belief        : (0.610, -0.914, -90.000)\n",
      "2024-04-28 16:08:25,551 |\u001b[32m INFO     \u001b[0m|: POS ERROR     : (-0.086, -0.007, 1443.959)\n",
      "2024-04-28 16:08:25,555 |\u001b[32m INFO     \u001b[0m|: ---------- UPDATE STATS -----------\n",
      "-------------------------------------\n",
      "\n",
      "\n",
      "----------------- 4 -----------------\n"
     ]
    },
    {
     "name": "stderr",
     "output_type": "stream",
     "text": [
      "qt.pointer.dispatch: skipping QEventPoint(id=4 ts=0 pos=0,0 scn=788.206,540.767 gbl=788.206,540.767 Released ellipse=(1x1 ∡ 0) vel=0,0 press=-788.206,-540.767 last=-788.206,-540.767 Δ 788.206,540.767) : no target window\n"
     ]
    },
    {
     "name": "stdout",
     "output_type": "stream",
     "text": [
      "2024-04-28 16:08:28,775 |\u001b[32m INFO     \u001b[0m|: Prediction Step\n",
      "2024-04-28 16:08:28,791 |\u001b[32m INFO     \u001b[0m|:  | Prediction Time: 0.016 secs\n",
      "2024-04-28 16:08:28,791 |\u001b[32m INFO     \u001b[0m|: ---------- PREDICTION STATS -----------\n",
      "2024-04-28 16:08:28,809 |\u001b[32m INFO     \u001b[0m|: GT index         : (8, 0, 8)\n",
      "2024-04-28 16:08:28,809 |\u001b[32m INFO     \u001b[0m|: Prior Bel index  : (9, 1, 8) with prob = 0.0907337\n",
      "2024-04-28 16:08:28,810 |\u001b[32m INFO     \u001b[0m|: POS ERROR        : (-0.436, -0.149, 1448.947)\n",
      "2024-04-28 16:08:28,811 |\u001b[32m INFO     \u001b[0m|: ---------- PREDICTION STATS -----------\n",
      "2024-04-28 16:08:31,769 |\u001b[32m INFO     \u001b[0m|: Update Step\n",
      "2024-04-28 16:08:31,771 |\u001b[32m INFO     \u001b[0m|:      | Update Time: 0.001 secs\n",
      "2024-04-28 16:08:31,771 |\u001b[32m INFO     \u001b[0m|: ---------- UPDATE STATS -----------\n",
      "2024-04-28 16:08:31,778 |\u001b[32m INFO     \u001b[0m|: GT index      : (8, 0, 8)\n",
      "2024-04-28 16:08:31,778 |\u001b[32m INFO     \u001b[0m|: Bel index     : (8, 1, 9) with prob = 1.0\n",
      "2024-04-28 16:08:31,778 |\u001b[32m INFO     \u001b[0m|: Bel_bar prob at index = 0.01650801704781463\n",
      "2024-04-28 16:08:31,779 |\u001b[32m INFO     \u001b[0m|: GT            : (0.783, -1.063, 1799.902)\n",
      "2024-04-28 16:08:31,779 |\u001b[32m INFO     \u001b[0m|: Belief        : (0.914, -0.914, 10.000)\n",
      "2024-04-28 16:08:31,780 |\u001b[32m INFO     \u001b[0m|: POS ERROR     : (-0.132, -0.149, 1789.902)\n",
      "2024-04-28 16:08:31,780 |\u001b[32m INFO     \u001b[0m|: ---------- UPDATE STATS -----------\n",
      "-------------------------------------\n",
      "\n",
      "\n",
      "----------------- 5 -----------------\n"
     ]
    },
    {
     "name": "stderr",
     "output_type": "stream",
     "text": [
      "qt.pointer.dispatch: skipping QEventPoint(id=1 ts=0 pos=0,0 scn=1279.56,566.043 gbl=1279.56,566.043 Released ellipse=(1x1 ∡ 0) vel=0,0 press=-1279.56,-566.043 last=-1279.56,-566.043 Δ 1279.56,566.043) : no target window\n",
      "Traceback (most recent call last):\n",
      "  File \"/Users/harrypeng/Desktop/ECE4160/FastRobots-sim-release-release-mirror/src/plotter.py\", line 263, in keyPressEvent\n",
      "    if event.key() == Qt.Key_Escape:\n",
      "AttributeError: type object 'Qt' has no attribute 'Key_Escape'\n",
      "Traceback (most recent call last):\n",
      "  File \"/Users/harrypeng/Desktop/ECE4160/FastRobots-sim-release-release-mirror/src/plotter.py\", line 263, in keyPressEvent\n",
      "    if event.key() == Qt.Key_Escape:\n",
      "AttributeError: type object 'Qt' has no attribute 'Key_Escape'\n"
     ]
    },
    {
     "name": "stdout",
     "output_type": "stream",
     "text": [
      "2024-04-28 16:08:37,822 |\u001b[32m INFO     \u001b[0m|: Prediction Step\n",
      "2024-04-28 16:08:37,839 |\u001b[32m INFO     \u001b[0m|:  | Prediction Time: 0.016 secs\n",
      "2024-04-28 16:08:37,839 |\u001b[32m INFO     \u001b[0m|: ---------- PREDICTION STATS -----------\n",
      "2024-04-28 16:08:37,857 |\u001b[32m INFO     \u001b[0m|: GT index         : (11, 1, 11)\n",
      "2024-04-28 16:08:37,857 |\u001b[32m INFO     \u001b[0m|: Prior Bel index  : (11, 0, 10) with prob = 0.2143596\n",
      "2024-04-28 16:08:37,858 |\u001b[32m INFO     \u001b[0m|: POS ERROR        : (-0.269, 0.314, 1818.334)\n",
      "2024-04-28 16:08:37,858 |\u001b[32m INFO     \u001b[0m|: ---------- PREDICTION STATS -----------\n"
     ]
    },
    {
     "name": "stderr",
     "output_type": "stream",
     "text": [
      "qt.pointer.dispatch: skipping QEventPoint(id=1 ts=0 pos=0,0 scn=1070.01,543.483 gbl=1070.01,543.483 Released ellipse=(1x1 ∡ 0) vel=0,0 press=-1070.01,-543.483 last=-1070.01,-543.483 Δ 1070.01,543.483) : no target window\n",
      "qt.pointer.dispatch: skipping QEventPoint(id=1 ts=0 pos=0,0 scn=1354.99,700.706 gbl=1354.99,700.706 Released ellipse=(1x1 ∡ 0) vel=0,0 press=-1354.99,-700.706 last=-1354.99,-700.706 Δ 1354.99,700.706) : no target window\n"
     ]
    },
    {
     "name": "stdout",
     "output_type": "stream",
     "text": [
      "2024-04-28 16:08:40,817 |\u001b[32m INFO     \u001b[0m|: Update Step\n",
      "2024-04-28 16:08:40,818 |\u001b[32m INFO     \u001b[0m|:      | Update Time: 0.001 secs\n",
      "2024-04-28 16:08:40,819 |\u001b[32m INFO     \u001b[0m|: ---------- UPDATE STATS -----------\n",
      "2024-04-28 16:08:40,824 |\u001b[32m INFO     \u001b[0m|: GT index      : (11, 1, 11)\n",
      "2024-04-28 16:08:40,825 |\u001b[32m INFO     \u001b[0m|: Bel index     : (10, 1, 11) with prob = 1.0\n",
      "2024-04-28 16:08:40,825 |\u001b[32m INFO     \u001b[0m|: Bel_bar prob at index = 0.040056802771198836\n",
      "2024-04-28 16:08:40,826 |\u001b[32m INFO     \u001b[0m|: GT            : (1.560, -0.905, 2208.964)\n",
      "2024-04-28 16:08:40,826 |\u001b[32m INFO     \u001b[0m|: Belief        : (1.524, -0.914, 50.000)\n",
      "2024-04-28 16:08:40,826 |\u001b[32m INFO     \u001b[0m|: POS ERROR     : (0.036, 0.009, 2158.964)\n",
      "2024-04-28 16:08:40,827 |\u001b[32m INFO     \u001b[0m|: ---------- UPDATE STATS -----------\n",
      "-------------------------------------\n",
      "\n",
      "\n",
      "----------------- 6 -----------------\n",
      "2024-04-28 16:08:42,871 |\u001b[32m INFO     \u001b[0m|: Prediction Step\n",
      "2024-04-28 16:08:42,887 |\u001b[32m INFO     \u001b[0m|:  | Prediction Time: 0.016 secs\n",
      "2024-04-28 16:08:42,888 |\u001b[32m INFO     \u001b[0m|: ---------- PREDICTION STATS -----------\n",
      "2024-04-28 16:08:42,904 |\u001b[32m INFO     \u001b[0m|: GT index         : (11, 2, 12)\n",
      "2024-04-28 16:08:42,905 |\u001b[32m INFO     \u001b[0m|: Prior Bel index  : (11, 1, 11) with prob = 0.2898024\n",
      "2024-04-28 16:08:42,905 |\u001b[32m INFO     \u001b[0m|: POS ERROR        : (-0.180, 0.399, 2187.141)\n",
      "2024-04-28 16:08:42,907 |\u001b[32m INFO     \u001b[0m|: ---------- PREDICTION STATS -----------\n",
      "2024-04-28 16:08:45,845 |\u001b[32m INFO     \u001b[0m|: Update Step\n",
      "2024-04-28 16:08:45,847 |\u001b[32m INFO     \u001b[0m|:      | Update Time: 0.001 secs\n",
      "2024-04-28 16:08:45,847 |\u001b[32m INFO     \u001b[0m|: ---------- UPDATE STATS -----------\n",
      "2024-04-28 16:08:45,863 |\u001b[32m INFO     \u001b[0m|: GT index      : (11, 2, 12)\n",
      "2024-04-28 16:08:45,863 |\u001b[32m INFO     \u001b[0m|: Bel index     : (11, 3, 13) with prob = 1.0\n",
      "2024-04-28 16:08:45,864 |\u001b[32m INFO     \u001b[0m|: Bel_bar prob at index = 0.0002936050655505246\n",
      "2024-04-28 16:08:45,864 |\u001b[32m INFO     \u001b[0m|: GT            : (1.649, -0.515, 2597.141)\n",
      "2024-04-28 16:08:45,865 |\u001b[32m INFO     \u001b[0m|: Belief        : (1.829, -0.305, 90.000)\n",
      "2024-04-28 16:08:45,866 |\u001b[32m INFO     \u001b[0m|: POS ERROR     : (-0.180, -0.211, 2507.141)\n",
      "2024-04-28 16:08:45,866 |\u001b[32m INFO     \u001b[0m|: ---------- UPDATE STATS -----------\n",
      "-------------------------------------\n",
      "\n",
      "\n",
      "----------------- 7 -----------------\n",
      "2024-04-28 16:08:47,913 |\u001b[32m INFO     \u001b[0m|: Prediction Step\n",
      "2024-04-28 16:08:47,929 |\u001b[32m INFO     \u001b[0m|:  | Prediction Time: 0.015 secs\n",
      "2024-04-28 16:08:47,929 |\u001b[32m INFO     \u001b[0m|: ---------- PREDICTION STATS -----------\n",
      "2024-04-28 16:08:47,947 |\u001b[32m INFO     \u001b[0m|: GT index         : (11, 3, 13)\n",
      "2024-04-28 16:08:47,947 |\u001b[32m INFO     \u001b[0m|: Prior Bel index  : (10, 4, 14) with prob = 0.1590714\n",
      "2024-04-28 16:08:47,948 |\u001b[32m INFO     \u001b[0m|: POS ERROR        : (0.205, -0.164, 2492.871)\n",
      "2024-04-28 16:08:47,948 |\u001b[32m INFO     \u001b[0m|: ---------- PREDICTION STATS -----------\n",
      "2024-04-28 16:08:50,863 |\u001b[32m INFO     \u001b[0m|: Update Step\n",
      "2024-04-28 16:08:50,864 |\u001b[32m INFO     \u001b[0m|:      | Update Time: 0.001 secs\n",
      "2024-04-28 16:08:50,865 |\u001b[32m INFO     \u001b[0m|: ---------- UPDATE STATS -----------\n",
      "2024-04-28 16:08:50,880 |\u001b[32m INFO     \u001b[0m|: GT index      : (11, 3, 13)\n",
      "2024-04-28 16:08:50,881 |\u001b[32m INFO     \u001b[0m|: Bel index     : (11, 3, 13) with prob = 1.0\n",
      "2024-04-28 16:08:50,881 |\u001b[32m INFO     \u001b[0m|: Bel_bar prob at index = 5.064430538429762e-34\n",
      "2024-04-28 16:08:50,882 |\u001b[32m INFO     \u001b[0m|: GT            : (1.729, -0.164, 2962.871)\n",
      "2024-04-28 16:08:50,882 |\u001b[32m INFO     \u001b[0m|: Belief        : (1.829, -0.305, 90.000)\n",
      "2024-04-28 16:08:50,882 |\u001b[32m INFO     \u001b[0m|: POS ERROR     : (-0.099, 0.140, 2872.871)\n",
      "2024-04-28 16:08:50,883 |\u001b[32m INFO     \u001b[0m|: ---------- UPDATE STATS -----------\n",
      "-------------------------------------\n",
      "\n",
      "\n",
      "----------------- 8 -----------------\n",
      "2024-04-28 16:08:53,932 |\u001b[32m INFO     \u001b[0m|: Prediction Step\n",
      "2024-04-28 16:08:53,948 |\u001b[32m INFO     \u001b[0m|:  | Prediction Time: 0.016 secs\n",
      "2024-04-28 16:08:53,949 |\u001b[32m INFO     \u001b[0m|: ---------- PREDICTION STATS -----------\n",
      "2024-04-28 16:08:53,967 |\u001b[32m INFO     \u001b[0m|: GT index         : (11, 5, 14)\n",
      "2024-04-28 16:08:53,968 |\u001b[32m INFO     \u001b[0m|: Prior Bel index  : (11, 3, 12) with prob = 0.5291169\n",
      "2024-04-28 16:08:53,971 |\u001b[32m INFO     \u001b[0m|: POS ERROR        : (-0.088, 0.632, 2916.177)\n",
      "2024-04-28 16:08:53,974 |\u001b[32m INFO     \u001b[0m|: ---------- PREDICTION STATS -----------\n",
      "2024-04-28 16:08:56,863 |\u001b[32m INFO     \u001b[0m|: Update Step\n",
      "2024-04-28 16:08:56,864 |\u001b[32m INFO     \u001b[0m|:      | Update Time: 0.001 secs\n",
      "2024-04-28 16:08:56,865 |\u001b[32m INFO     \u001b[0m|: ---------- UPDATE STATS -----------\n",
      "2024-04-28 16:08:56,880 |\u001b[32m INFO     \u001b[0m|: GT index      : (11, 5, 14)\n",
      "2024-04-28 16:08:56,881 |\u001b[32m INFO     \u001b[0m|: Bel index     : (11, 4, 13) with prob = 0.9009551\n",
      "2024-04-28 16:08:56,881 |\u001b[32m INFO     \u001b[0m|: Bel_bar prob at index = 7.732572342936967e-10\n",
      "2024-04-28 16:08:56,881 |\u001b[32m INFO     \u001b[0m|: GT            : (1.741, 0.327, 3346.177)\n",
      "2024-04-28 16:08:56,882 |\u001b[32m INFO     \u001b[0m|: Belief        : (1.829, 0.000, 90.000)\n",
      "2024-04-28 16:08:56,882 |\u001b[32m INFO     \u001b[0m|: POS ERROR     : (-0.088, 0.327, 3256.177)\n",
      "2024-04-28 16:08:56,883 |\u001b[32m INFO     \u001b[0m|: ---------- UPDATE STATS -----------\n",
      "-------------------------------------\n",
      "\n",
      "\n",
      "----------------- 9 -----------------\n",
      "2024-04-28 16:08:59,926 |\u001b[32m INFO     \u001b[0m|: Prediction Step\n",
      "2024-04-28 16:08:59,957 |\u001b[32m INFO     \u001b[0m|:  | Prediction Time: 0.030 secs\n",
      "2024-04-28 16:08:59,958 |\u001b[32m INFO     \u001b[0m|: ---------- PREDICTION STATS -----------\n",
      "2024-04-28 16:08:59,959 |\u001b[32m INFO     \u001b[0m|: GT index         : (11, 6, 16)\n",
      "2024-04-28 16:08:59,960 |\u001b[32m INFO     \u001b[0m|: Prior Bel index  : (10, 5, 16) with prob = 0.1713044\n",
      "2024-04-28 16:08:59,960 |\u001b[32m INFO     \u001b[0m|: POS ERROR        : (0.221, 0.352, 3235.611)\n",
      "2024-04-28 16:08:59,961 |\u001b[32m INFO     \u001b[0m|: ---------- PREDICTION STATS -----------\n",
      "2024-04-28 16:09:02,873 |\u001b[32m INFO     \u001b[0m|: Update Step\n",
      "2024-04-28 16:09:02,875 |\u001b[32m INFO     \u001b[0m|:      | Update Time: 0.001 secs\n",
      "2024-04-28 16:09:02,875 |\u001b[32m INFO     \u001b[0m|: ---------- UPDATE STATS -----------\n",
      "2024-04-28 16:09:02,885 |\u001b[32m INFO     \u001b[0m|: GT index      : (11, 6, 16)\n",
      "2024-04-28 16:09:02,885 |\u001b[32m INFO     \u001b[0m|: Bel index     : (11, 7, 16) with prob = 1.0\n",
      "2024-04-28 16:09:02,886 |\u001b[32m INFO     \u001b[0m|: Bel_bar prob at index = 1.561451114149754e-05\n",
      "2024-04-28 16:09:02,886 |\u001b[32m INFO     \u001b[0m|: GT            : (1.745, 0.657, 3745.611)\n",
      "2024-04-28 16:09:02,887 |\u001b[32m INFO     \u001b[0m|: Belief        : (1.829, 0.914, 150.000)\n",
      "2024-04-28 16:09:02,891 |\u001b[32m INFO     \u001b[0m|: POS ERROR     : (-0.084, -0.257, 3595.611)\n",
      "2024-04-28 16:09:02,892 |\u001b[32m INFO     \u001b[0m|: ---------- UPDATE STATS -----------\n",
      "-------------------------------------\n",
      "\n",
      "\n",
      "----------------- 10 -----------------\n",
      "2024-04-28 16:09:04,939 |\u001b[32m INFO     \u001b[0m|: Prediction Step\n",
      "2024-04-28 16:09:04,955 |\u001b[32m INFO     \u001b[0m|:  | Prediction Time: 0.016 secs\n",
      "2024-04-28 16:09:04,956 |\u001b[32m INFO     \u001b[0m|: ---------- PREDICTION STATS -----------\n",
      "2024-04-28 16:09:04,972 |\u001b[32m INFO     \u001b[0m|: GT index         : (10, 7, 16)\n",
      "2024-04-28 16:09:04,973 |\u001b[32m INFO     \u001b[0m|: Prior Bel index  : (10, 8, 14) with prob = 0.2079911\n",
      "2024-04-28 16:09:04,973 |\u001b[32m INFO     \u001b[0m|: POS ERROR        : (-0.192, -0.280, 3646.690)\n",
      "2024-04-28 16:09:04,974 |\u001b[32m INFO     \u001b[0m|: ---------- PREDICTION STATS -----------\n",
      "2024-04-28 16:09:07,929 |\u001b[32m INFO     \u001b[0m|: Update Step\n",
      "2024-04-28 16:09:07,930 |\u001b[32m INFO     \u001b[0m|:      | Update Time: 0.001 secs\n",
      "2024-04-28 16:09:07,931 |\u001b[32m INFO     \u001b[0m|: ---------- UPDATE STATS -----------\n",
      "2024-04-28 16:09:07,946 |\u001b[32m INFO     \u001b[0m|: GT index      : (10, 7, 16)\n",
      "2024-04-28 16:09:07,946 |\u001b[32m INFO     \u001b[0m|: Bel index     : (10, 7, 16) with prob = 1.0\n",
      "2024-04-28 16:09:07,947 |\u001b[32m INFO     \u001b[0m|: Bel_bar prob at index = 0.02902114835681595\n",
      "2024-04-28 16:09:07,947 |\u001b[32m INFO     \u001b[0m|: GT            : (1.332, 0.939, 4117.072)\n",
      "2024-04-28 16:09:07,947 |\u001b[32m INFO     \u001b[0m|: Belief        : (1.524, 0.914, 150.000)\n",
      "2024-04-28 16:09:07,948 |\u001b[32m INFO     \u001b[0m|: POS ERROR     : (-0.192, 0.025, 3967.072)\n",
      "2024-04-28 16:09:07,948 |\u001b[32m INFO     \u001b[0m|: ---------- UPDATE STATS -----------\n",
      "-------------------------------------\n",
      "\n",
      "\n",
      "----------------- 11 -----------------\n",
      "2024-04-28 16:09:10,996 |\u001b[32m INFO     \u001b[0m|: Prediction Step\n",
      "2024-04-28 16:09:11,012 |\u001b[32m INFO     \u001b[0m|:  | Prediction Time: 0.016 secs\n",
      "2024-04-28 16:09:11,013 |\u001b[32m INFO     \u001b[0m|: ---------- PREDICTION STATS -----------\n",
      "2024-04-28 16:09:11,029 |\u001b[32m INFO     \u001b[0m|: GT index         : (7, 6, 3)\n",
      "2024-04-28 16:09:11,030 |\u001b[32m INFO     \u001b[0m|: Prior Bel index  : (8, 8, 1) with prob = 0.1388076\n",
      "2024-04-28 16:09:11,030 |\u001b[32m INFO     \u001b[0m|: POS ERROR        : (-0.493, -0.371, 4363.311)\n",
      "2024-04-28 16:09:11,031 |\u001b[32m INFO     \u001b[0m|: ---------- PREDICTION STATS -----------\n",
      "2024-04-28 16:09:13,958 |\u001b[32m INFO     \u001b[0m|: Update Step\n",
      "2024-04-28 16:09:13,960 |\u001b[32m INFO     \u001b[0m|:      | Update Time: 0.001 secs\n",
      "2024-04-28 16:09:13,960 |\u001b[32m INFO     \u001b[0m|: ---------- UPDATE STATS -----------\n",
      "2024-04-28 16:09:13,966 |\u001b[32m INFO     \u001b[0m|: GT index      : (7, 6, 3)\n",
      "2024-04-28 16:09:13,967 |\u001b[32m INFO     \u001b[0m|: Bel index     : (7, 7, 3) with prob = 1.0\n",
      "2024-04-28 16:09:13,967 |\u001b[32m INFO     \u001b[0m|: Bel_bar prob at index = 0.005317213541960819\n",
      "2024-04-28 16:09:13,968 |\u001b[32m INFO     \u001b[0m|: GT            : (0.422, 0.848, 4573.311)\n",
      "2024-04-28 16:09:13,968 |\u001b[32m INFO     \u001b[0m|: Belief        : (0.610, 0.914, -110.000)\n",
      "2024-04-28 16:09:13,968 |\u001b[32m INFO     \u001b[0m|: POS ERROR     : (-0.188, -0.066, 4683.311)\n",
      "2024-04-28 16:09:13,969 |\u001b[32m INFO     \u001b[0m|: ---------- UPDATE STATS -----------\n",
      "-------------------------------------\n",
      "\n",
      "\n",
      "----------------- 12 -----------------\n",
      "2024-04-28 16:09:16,008 |\u001b[32m INFO     \u001b[0m|: Prediction Step\n",
      "2024-04-28 16:09:16,025 |\u001b[32m INFO     \u001b[0m|:  | Prediction Time: 0.016 secs\n",
      "2024-04-28 16:09:16,025 |\u001b[32m INFO     \u001b[0m|: ---------- PREDICTION STATS -----------\n",
      "2024-04-28 16:09:16,043 |\u001b[32m INFO     \u001b[0m|: GT index         : (6, 4, 5)\n",
      "2024-04-28 16:09:16,043 |\u001b[32m INFO     \u001b[0m|: Prior Bel index  : (6, 5, 5) with prob = 0.1159376\n",
      "2024-04-28 16:09:16,044 |\u001b[32m INFO     \u001b[0m|: POS ERROR        : (-0.076, -0.100, 4688.393)\n",
      "2024-04-28 16:09:16,044 |\u001b[32m INFO     \u001b[0m|: ---------- PREDICTION STATS -----------\n",
      "2024-04-28 16:09:18,965 |\u001b[32m INFO     \u001b[0m|: Update Step\n",
      "2024-04-28 16:09:18,966 |\u001b[32m INFO     \u001b[0m|:      | Update Time: 0.001 secs\n",
      "2024-04-28 16:09:18,967 |\u001b[32m INFO     \u001b[0m|: ---------- UPDATE STATS -----------\n",
      "2024-04-28 16:09:18,979 |\u001b[32m INFO     \u001b[0m|: GT index      : (6, 4, 5)\n",
      "2024-04-28 16:09:18,979 |\u001b[32m INFO     \u001b[0m|: Bel index     : (6, 5, 5) with prob = 1.0\n",
      "2024-04-28 16:09:18,980 |\u001b[32m INFO     \u001b[0m|: Bel_bar prob at index = 0.11593760202172385\n",
      "2024-04-28 16:09:18,980 |\u001b[32m INFO     \u001b[0m|: GT            : (0.229, 0.205, 4978.394)\n",
      "2024-04-28 16:09:18,981 |\u001b[32m INFO     \u001b[0m|: Belief        : (0.305, 0.305, -70.000)\n",
      "2024-04-28 16:09:18,981 |\u001b[32m INFO     \u001b[0m|: POS ERROR     : (-0.076, -0.100, 5048.394)\n",
      "2024-04-28 16:09:18,982 |\u001b[32m INFO     \u001b[0m|: ---------- UPDATE STATS -----------\n",
      "-------------------------------------\n",
      "\n",
      "\n",
      "----------------- 13 -----------------\n",
      "2024-04-28 16:09:21,021 |\u001b[32m INFO     \u001b[0m|: Prediction Step\n",
      "2024-04-28 16:09:21,037 |\u001b[32m INFO     \u001b[0m|:  | Prediction Time: 0.015 secs\n",
      "2024-04-28 16:09:21,038 |\u001b[32m INFO     \u001b[0m|: ---------- PREDICTION STATS -----------\n",
      "2024-04-28 16:09:21,054 |\u001b[32m INFO     \u001b[0m|: GT index         : (5, 3, 2)\n",
      "2024-04-28 16:09:21,054 |\u001b[32m INFO     \u001b[0m|: Prior Bel index  : (4, 4, 1) with prob = 0.1123168\n",
      "2024-04-28 16:09:21,055 |\u001b[32m INFO     \u001b[0m|: POS ERROR        : (0.269, -0.095, 5058.504)\n",
      "2024-04-28 16:09:21,055 |\u001b[32m INFO     \u001b[0m|: ---------- PREDICTION STATS -----------\n",
      "2024-04-28 16:09:23,983 |\u001b[32m INFO     \u001b[0m|: Update Step\n",
      "2024-04-28 16:09:23,985 |\u001b[32m INFO     \u001b[0m|:      | Update Time: 0.001 secs\n",
      "2024-04-28 16:09:23,986 |\u001b[32m INFO     \u001b[0m|: ---------- UPDATE STATS -----------\n",
      "2024-04-28 16:09:23,989 |\u001b[32m INFO     \u001b[0m|: GT index      : (5, 3, 2)\n",
      "2024-04-28 16:09:23,990 |\u001b[32m INFO     \u001b[0m|: Bel index     : (5, 3, 2) with prob = 1.0\n",
      "2024-04-28 16:09:23,990 |\u001b[32m INFO     \u001b[0m|: Bel_bar prob at index = 0.002466806793496121\n",
      "2024-04-28 16:09:23,990 |\u001b[32m INFO     \u001b[0m|: GT            : (-0.036, -0.095, 5268.505)\n",
      "2024-04-28 16:09:23,991 |\u001b[32m INFO     \u001b[0m|: Belief        : (0.000, -0.305, -130.000)\n",
      "2024-04-28 16:09:23,992 |\u001b[32m INFO     \u001b[0m|: POS ERROR     : (-0.036, 0.210, 5398.505)\n",
      "2024-04-28 16:09:23,992 |\u001b[32m INFO     \u001b[0m|: ---------- UPDATE STATS -----------\n",
      "-------------------------------------\n",
      "\n",
      "\n",
      "----------------- 14 -----------------\n",
      "2024-04-28 16:09:27,033 |\u001b[32m INFO     \u001b[0m|: Prediction Step\n",
      "2024-04-28 16:09:27,049 |\u001b[32m INFO     \u001b[0m|:  | Prediction Time: 0.016 secs\n",
      "2024-04-28 16:09:27,050 |\u001b[32m INFO     \u001b[0m|: ---------- PREDICTION STATS -----------\n",
      "2024-04-28 16:09:27,066 |\u001b[32m INFO     \u001b[0m|: GT index         : (4, 3, 1)\n",
      "2024-04-28 16:09:27,066 |\u001b[32m INFO     \u001b[0m|: Prior Bel index  : (4, 0, 4) with prob = 0.1111107\n",
      "2024-04-28 16:09:27,067 |\u001b[32m INFO     \u001b[0m|: POS ERROR        : (-0.115, 0.990, 5334.818)\n",
      "2024-04-28 16:09:27,067 |\u001b[32m INFO     \u001b[0m|: ---------- PREDICTION STATS -----------\n"
     ]
    },
    {
     "name": "stderr",
     "output_type": "stream",
     "text": [
      "qt.pointer.dispatch: skipping QEventPoint(id=1 ts=0 pos=0,0 scn=1070.19,621.666 gbl=1070.19,621.666 Released ellipse=(1x1 ∡ 0) vel=0,0 press=-1070.19,-621.666 last=-1070.19,-621.666 Δ 1070.19,621.666) : no target window\n"
     ]
    },
    {
     "name": "stdout",
     "output_type": "stream",
     "text": [
      "2024-04-28 16:09:30,014 |\u001b[32m INFO     \u001b[0m|: Update Step\n",
      "2024-04-28 16:09:30,015 |\u001b[32m INFO     \u001b[0m|:      | Update Time: 0.001 secs\n",
      "2024-04-28 16:09:30,016 |\u001b[32m INFO     \u001b[0m|: ---------- UPDATE STATS -----------\n",
      "2024-04-28 16:09:30,029 |\u001b[32m INFO     \u001b[0m|: GT index      : (4, 3, 1)\n",
      "2024-04-28 16:09:30,030 |\u001b[32m INFO     \u001b[0m|: Bel index     : (4, 3, 1) with prob = 1.0\n",
      "2024-04-28 16:09:30,030 |\u001b[32m INFO     \u001b[0m|: Bel_bar prob at index = 2.777713373708183e-06\n",
      "2024-04-28 16:09:30,031 |\u001b[32m INFO     \u001b[0m|: GT            : (-0.420, -0.230, 5605.009)\n",
      "2024-04-28 16:09:30,032 |\u001b[32m INFO     \u001b[0m|: Belief        : (-0.305, -0.305, -150.000)\n",
      "2024-04-28 16:09:30,032 |\u001b[32m INFO     \u001b[0m|: POS ERROR     : (-0.115, 0.075, 5755.009)\n",
      "2024-04-28 16:09:30,033 |\u001b[32m INFO     \u001b[0m|: ---------- UPDATE STATS -----------\n",
      "-------------------------------------\n",
      "\n",
      "\n",
      "----------------- 15 -----------------\n"
     ]
    },
    {
     "name": "stderr",
     "output_type": "stream",
     "text": [
      "2024-04-28 16:09:31.741 python[2639:48147] Warning: Window move completed without beginning\n"
     ]
    },
    {
     "name": "stdout",
     "output_type": "stream",
     "text": [
      "2024-04-28 16:09:33,088 |\u001b[32m INFO     \u001b[0m|: Prediction Step\n",
      "2024-04-28 16:09:33,104 |\u001b[32m INFO     \u001b[0m|:  | Prediction Time: 0.016 secs\n",
      "2024-04-28 16:09:33,105 |\u001b[32m INFO     \u001b[0m|: ---------- PREDICTION STATS -----------\n",
      "2024-04-28 16:09:33,122 |\u001b[32m INFO     \u001b[0m|: GT index         : (3, 3, 0)\n",
      "2024-04-28 16:09:33,123 |\u001b[32m INFO     \u001b[0m|: Prior Bel index  : (3, 2, 1) with prob = 0.0831619\n",
      "2024-04-28 16:09:33,123 |\u001b[32m INFO     \u001b[0m|: POS ERROR        : (-0.203, 0.405, 5731.895)\n",
      "2024-04-28 16:09:33,124 |\u001b[32m INFO     \u001b[0m|: ---------- PREDICTION STATS -----------\n"
     ]
    },
    {
     "name": "stderr",
     "output_type": "stream",
     "text": [
      "2024-04-28 16:09:33.493 python[2639:48147] Warning: Window move completed without beginning\n"
     ]
    },
    {
     "name": "stdout",
     "output_type": "stream",
     "text": [
      "2024-04-28 16:09:36,065 |\u001b[32m INFO     \u001b[0m|: Update Step\n",
      "2024-04-28 16:09:36,068 |\u001b[32m INFO     \u001b[0m|:      | Update Time: 0.001 secs\n",
      "2024-04-28 16:09:36,068 |\u001b[32m INFO     \u001b[0m|: ---------- UPDATE STATS -----------\n",
      "2024-04-28 16:09:36,080 |\u001b[32m INFO     \u001b[0m|: GT index      : (3, 3, 0)\n",
      "2024-04-28 16:09:36,080 |\u001b[32m INFO     \u001b[0m|: Bel index     : (2, 3, 0) with prob = 1.0\n",
      "2024-04-28 16:09:36,081 |\u001b[32m INFO     \u001b[0m|: Bel_bar prob at index = 0.0021999103069629605\n",
      "2024-04-28 16:09:36,081 |\u001b[32m INFO     \u001b[0m|: GT            : (-0.812, -0.205, 5942.086)\n",
      "2024-04-28 16:09:36,082 |\u001b[32m INFO     \u001b[0m|: Belief        : (-0.914, -0.305, -170.000)\n",
      "2024-04-28 16:09:36,082 |\u001b[32m INFO     \u001b[0m|: POS ERROR     : (0.102, 0.100, 6112.086)\n",
      "2024-04-28 16:09:36,083 |\u001b[32m INFO     \u001b[0m|: ---------- UPDATE STATS -----------\n",
      "-------------------------------------\n"
     ]
    },
    {
     "name": "stderr",
     "output_type": "stream",
     "text": [
      "qt.pointer.dispatch: skipping QEventPoint(id=1 ts=0 pos=0,0 scn=750.944,200.074 gbl=750.944,200.074 Released ellipse=(1x1 ∡ 0) vel=0,0 press=-750.944,-200.074 last=-750.944,-200.074 Δ 750.944,200.074) : no target window\n",
      "qt.pointer.dispatch: skipping QEventPoint(id=1 ts=0 pos=0,0 scn=761.936,608.522 gbl=761.936,608.522 Released ellipse=(1x1 ∡ 0) vel=0,0 press=-761.936,-608.522 last=-761.936,-608.522 Δ 761.936,608.522) : no target window\n",
      "Traceback (most recent call last):\n",
      "  File \"/Users/harrypeng/Desktop/ECE4160/FastRobots-sim-release-release-mirror/src/plotter.py\", line 263, in keyPressEvent\n",
      "    if event.key() == Qt.Key_Escape:\n",
      "AttributeError: type object 'Qt' has no attribute 'Key_Escape'\n",
      "Traceback (most recent call last):\n",
      "  File \"/Users/harrypeng/Desktop/ECE4160/FastRobots-sim-release-release-mirror/src/plotter.py\", line 263, in keyPressEvent\n",
      "    if event.key() == Qt.Key_Escape:\n",
      "AttributeError: type object 'Qt' has no attribute 'Key_Escape'\n",
      "qt.pointer.dispatch: skipping QEventPoint(id=1 ts=0 pos=0,0 scn=893.515,601.235 gbl=893.515,601.235 Released ellipse=(1x1 ∡ 0) vel=0,0 press=-893.515,-601.235 last=-893.515,-601.235 Δ 893.515,601.235) : no target window\n"
     ]
    }
   ],
   "source": [
    "# Initialize the Trajectory object\n",
    "traj = Trajectory(loc)\n",
    "\n",
    "# Run through each motion steps\n",
    "for t in range(0, traj.total_time_steps):\n",
    "    print(\"\\n\\n-----------------\", t, \"-----------------\")\n",
    "    \n",
    "    prev_odom, current_odom, prev_gt, current_gt = traj.execute_time_step(t)\n",
    "        \n",
    "    # Prediction Step\n",
    "    loc.prediction_step(current_odom, prev_odom)\n",
    "    loc.print_prediction_stats(plot_data=True)\n",
    "    \n",
    "    # Get Observation Data by executing a 360 degree rotation motion\n",
    "    loc.get_observation_data()\n",
    "    \n",
    "    # Update Step\n",
    "    loc.update_step()\n",
    "    loc.print_update_stats(plot_data=True)\n",
    "\n",
    "# Uncomment the below line to wait for keyboard input between each iteration.\n",
    "#   input(\"Press Enter to Continue\")\n",
    "        \n",
    "    print(\"-------------------------------------\")"
   ]
  },
  {
   "cell_type": "code",
   "execution_count": null,
   "metadata": {},
   "outputs": [],
   "source": []
  }
 ],
 "metadata": {
  "kernelspec": {
   "display_name": "Python 3 (ipykernel)",
   "language": "python",
   "name": "python3"
  },
  "language_info": {
   "codemirror_mode": {
    "name": "ipython",
    "version": 3
   },
   "file_extension": ".py",
   "mimetype": "text/x-python",
   "name": "python",
   "nbconvert_exporter": "python",
   "pygments_lexer": "ipython3",
   "version": "3.10.14"
  }
 },
 "nbformat": 4,
 "nbformat_minor": 4
}
